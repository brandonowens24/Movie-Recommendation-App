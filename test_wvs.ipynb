{
 "cells": [
  {
   "cell_type": "code",
   "execution_count": 1,
   "metadata": {},
   "outputs": [],
   "source": [
    "from gensim.models import Word2Vec\n",
    "from sklearn.metrics.pairwise import cosine_similarity\n",
    "from sklearn.metrics.pairwise import euclidean_distances\n",
    "import pandas as pd\n",
    "import numpy as np"
   ]
  },
  {
   "cell_type": "code",
   "execution_count": 2,
   "metadata": {},
   "outputs": [],
   "source": [
    "model = Word2Vec.load(\"cinema-rec.model\")"
   ]
  },
  {
   "cell_type": "code",
   "execution_count": 3,
   "metadata": {},
   "outputs": [],
   "source": [
    "movies_we = pd.read_json(\"movies_we.json\")"
   ]
  },
  {
   "cell_type": "code",
   "execution_count": 8,
   "metadata": {},
   "outputs": [],
   "source": [
    "movies_we_dict = dict(zip(movies_we[\"Title\"], movies_we[\"count_embedding\"]))"
   ]
  },
  {
   "cell_type": "code",
   "execution_count": 4,
   "metadata": {},
   "outputs": [],
   "source": [
    "import json \n",
    "\n",
    "with open('movies_we.json', 'r') as f:\n",
    "    embeddings_dict = json.load(f)\n",
    "\n",
    "titles = list(embeddings_dict[\"Title\"].values())\n",
    "count_embeddings_matrix = np.array(list(embeddings_dict[\"count_embedding\"].values()))\n",
    "\n",
    "def find_top_similar_titles(query_title, top_n=5):\n",
    "    # Find the index of the query title\n",
    "    query_index = titles.index(query_title)\n",
    "    \n",
    "    # Get the embedding of the query title\n",
    "    query_embedding = count_embeddings_matrix[query_index]\n",
    "    \n",
    "    # Calculate cosine similarity between the query title embedding and all other title embeddings\n",
    "    similarity_scores = cosine_similarity([query_embedding], count_embeddings_matrix)[0]\n",
    "    \n",
    "    # Sort titles based on cosine similarity scores\n",
    "    sorted_indices = np.argsort(similarity_scores)[::-1]\n",
    "    sorted_titles = [(titles[i], similarity_scores[i]) for i in sorted_indices if titles[i] != query_title]\n",
    "    \n",
    "    # Select the top similar titles\n",
    "    top_similar_titles = sorted_titles[:top_n]\n",
    "    \n",
    "    return top_similar_titles"
   ]
  },
  {
   "cell_type": "code",
   "execution_count": 7,
   "metadata": {},
   "outputs": [
    {
     "name": "stdout",
     "output_type": "stream",
     "text": [
      "The Hollow Point : 0.9375156571975086\n",
      "Death Wish II : 0.9319400240344249\n",
      "Manhunter : 0.9312630427929911\n",
      "Unforgiven : 0.9304567567735813\n",
      "The Purple Gang : 0.9294734692889288\n"
     ]
    }
   ],
   "source": [
    "query_title = \"No Country for Old Men\"\n",
    "top_similar_titles = find_top_similar_titles(query_title)\n",
    "\n",
    "for title, similarity_score in top_similar_titles:\n",
    "    print(title, \":\", similarity_score)"
   ]
  },
  {
   "cell_type": "code",
   "execution_count": 18,
   "metadata": {},
   "outputs": [],
   "source": [
    "with open('shows_we.json', 'r') as f:\n",
    "    embeddings_dict = json.load(f)\n",
    "\n",
    "titles = list(embeddings_dict[\"Title\"].values())\n",
    "embeddings_matrix = np.array(list(embeddings_dict[\"count_embedding\"].values()))\n",
    "\n",
    "\n",
    "def find_top_similar_titles(query_title, top_n=5):\n",
    "    # Find the index of the query title\n",
    "    query_index = titles.index(query_title)\n",
    "    \n",
    "    # Get the embedding of the query title\n",
    "    query_embedding = embeddings_matrix[query_index]\n",
    "    \n",
    "    # Calculate cosine similarity between the query title embedding and all other title embeddings\n",
    "    similarity_scores = euclidean_distances([query_embedding], embeddings_matrix)[0]\n",
    "    \n",
    "    # Sort titles based on cosine similarity scores\n",
    "    sorted_indices = np.argsort(similarity_scores)\n",
    "    sorted_titles = [(titles[i], similarity_scores[i]) for i in sorted_indices if titles[i] != query_title]\n",
    "    \n",
    "    # Select the top similar titles\n",
    "    top_similar_titles = sorted_titles[:top_n]\n",
    "    \n",
    "    return top_similar_titles"
   ]
  },
  {
   "cell_type": "code",
   "execution_count": 19,
   "metadata": {},
   "outputs": [
    {
     "name": "stdout",
     "output_type": "stream",
     "text": [
      "Baretta : 1.0995543216676753\n",
      "Nero Wolfe : 1.1605278541044688\n",
      "Hagen : 1.1847008087042445\n",
      "Island Son : 1.189776767237423\n",
      "Ramar of the Jungle : 1.1920142290152533\n"
     ]
    }
   ],
   "source": [
    "query_title = \"Better Call Saul\"\n",
    "top_similar_titles = find_top_similar_titles(query_title)\n",
    "\n",
    "for title, similarity_score in top_similar_titles:\n",
    "    print(title, \":\", similarity_score)"
   ]
  },
  {
   "cell_type": "markdown",
   "metadata": {},
   "source": [
    "## Save Matrices"
   ]
  },
  {
   "cell_type": "code",
   "execution_count": 20,
   "metadata": {},
   "outputs": [],
   "source": [
    "with open('movies_we.json', 'r') as f:\n",
    "    movies_embeddings_dict = json.load(f)\n",
    "\n",
    "titles = list(movies_embeddings_dict[\"Title\"].values())\n",
    "movies_count_embeddings_matrix = np.array(list(movies_embeddings_dict[\"count_embedding\"].values()))\n",
    "movies_tfidf_embeddings_matrix = np.array(list(movies_embeddings_dict[\"tfidf_embedding\"].values()))"
   ]
  },
  {
   "cell_type": "code",
   "execution_count": 21,
   "metadata": {},
   "outputs": [],
   "source": [
    "with open('shows_we.json', 'r') as f:\n",
    "    shows_embeddings_dict = json.load(f)\n",
    "\n",
    "titles = list(shows_embeddings_dict[\"Title\"].values())\n",
    "shows_count_embeddings_matrix = np.array(list(shows_embeddings_dict[\"count_embedding\"].values()))\n",
    "shows_tfidf_embeddings_matrix = np.array(list(shows_embeddings_dict[\"tfidf_embedding\"].values()))"
   ]
  },
  {
   "cell_type": "code",
   "execution_count": 23,
   "metadata": {},
   "outputs": [],
   "source": [
    "movies_count_embeddings_matrix.dump(\"movies_count_embedding_matrix.dat\")\n",
    "movies_tfidf_embeddings_matrix.dump(\"movies_tfidf_embedding_matrix.dat\")\n",
    "shows_count_embeddings_matrix.dump(\"shows_count_embedding_matrix.dat\")\n",
    "shows_tfidf_embeddings_matrix.dump(\"shows_tfidf_embedding_matrix.dat\")\n",
    "\n"
   ]
  }
 ],
 "metadata": {
  "kernelspec": {
   "display_name": "nlp",
   "language": "python",
   "name": "python3"
  },
  "language_info": {
   "codemirror_mode": {
    "name": "ipython",
    "version": 3
   },
   "file_extension": ".py",
   "mimetype": "text/x-python",
   "name": "python",
   "nbconvert_exporter": "python",
   "pygments_lexer": "ipython3",
   "version": "3.11.8"
  }
 },
 "nbformat": 4,
 "nbformat_minor": 2
}
